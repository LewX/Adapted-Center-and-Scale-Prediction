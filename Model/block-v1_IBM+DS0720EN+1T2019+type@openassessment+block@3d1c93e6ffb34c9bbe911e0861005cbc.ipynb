{
 "cells": [
  {
   "cell_type": "markdown",
   "metadata": {},
   "source": [
    "# Import Libraries"
   ]
  },
  {
   "cell_type": "code",
   "execution_count": 264,
   "metadata": {},
   "outputs": [],
   "source": [
    "import pandas as pd\n",
    "import numpy as np\n",
    "import matplotlib.pyplot as plt"
   ]
  },
  {
   "cell_type": "markdown",
   "metadata": {},
   "source": [
    "# Preprocessing"
   ]
  },
  {
   "cell_type": "code",
   "execution_count": 246,
   "metadata": {},
   "outputs": [
    {
     "data": {
      "text/html": [
       "<div>\n",
       "<style scoped>\n",
       "    .dataframe tbody tr th:only-of-type {\n",
       "        vertical-align: middle;\n",
       "    }\n",
       "\n",
       "    .dataframe tbody tr th {\n",
       "        vertical-align: top;\n",
       "    }\n",
       "\n",
       "    .dataframe thead th {\n",
       "        text-align: right;\n",
       "    }\n",
       "</style>\n",
       "<table border=\"1\" class=\"dataframe\">\n",
       "  <thead>\n",
       "    <tr style=\"text-align: right;\">\n",
       "      <th></th>\n",
       "      <th>created_date</th>\n",
       "      <th>unique_key</th>\n",
       "      <th>complaint_type</th>\n",
       "      <th>incident_zip</th>\n",
       "      <th>incident_address</th>\n",
       "      <th>street_name</th>\n",
       "      <th>address_type</th>\n",
       "      <th>city</th>\n",
       "      <th>resolution_description</th>\n",
       "      <th>borough</th>\n",
       "      <th>latitude</th>\n",
       "      <th>longitude</th>\n",
       "      <th>closed_date</th>\n",
       "      <th>location_type</th>\n",
       "      <th>status</th>\n",
       "    </tr>\n",
       "  </thead>\n",
       "  <tbody>\n",
       "    <tr>\n",
       "      <th>0</th>\n",
       "      <td>2019-08-19T02:16:39.000</td>\n",
       "      <td>43584064</td>\n",
       "      <td>PLUMBING</td>\n",
       "      <td>10033.0</td>\n",
       "      <td>612 WEST  178 STREET</td>\n",
       "      <td>WEST  178 STREET</td>\n",
       "      <td>ADDRESS</td>\n",
       "      <td>NEW YORK</td>\n",
       "      <td>The following complaint conditions are still o...</td>\n",
       "      <td>MANHATTAN</td>\n",
       "      <td>40.847546</td>\n",
       "      <td>-73.935648</td>\n",
       "      <td>NaN</td>\n",
       "      <td>RESIDENTIAL BUILDING</td>\n",
       "      <td>Open</td>\n",
       "    </tr>\n",
       "    <tr>\n",
       "      <th>1</th>\n",
       "      <td>2019-08-19T15:54:15.000</td>\n",
       "      <td>43587056</td>\n",
       "      <td>PLUMBING</td>\n",
       "      <td>11225.0</td>\n",
       "      <td>170 HAWTHORNE STREET</td>\n",
       "      <td>HAWTHORNE STREET</td>\n",
       "      <td>ADDRESS</td>\n",
       "      <td>BROOKLYN</td>\n",
       "      <td>The following complaint conditions are still o...</td>\n",
       "      <td>BROOKLYN</td>\n",
       "      <td>40.657556</td>\n",
       "      <td>-73.954746</td>\n",
       "      <td>NaN</td>\n",
       "      <td>RESIDENTIAL BUILDING</td>\n",
       "      <td>Open</td>\n",
       "    </tr>\n",
       "    <tr>\n",
       "      <th>2</th>\n",
       "      <td>2019-08-19T20:15:05.000</td>\n",
       "      <td>43583514</td>\n",
       "      <td>PLUMBING</td>\n",
       "      <td>11221.0</td>\n",
       "      <td>600 GATES AVENUE</td>\n",
       "      <td>GATES AVENUE</td>\n",
       "      <td>ADDRESS</td>\n",
       "      <td>BROOKLYN</td>\n",
       "      <td>The following complaint conditions are still o...</td>\n",
       "      <td>BROOKLYN</td>\n",
       "      <td>40.687320</td>\n",
       "      <td>-73.940934</td>\n",
       "      <td>NaN</td>\n",
       "      <td>RESIDENTIAL BUILDING</td>\n",
       "      <td>Open</td>\n",
       "    </tr>\n",
       "    <tr>\n",
       "      <th>3</th>\n",
       "      <td>2019-08-19T16:27:54.000</td>\n",
       "      <td>43591000</td>\n",
       "      <td>SAFETY</td>\n",
       "      <td>11373.0</td>\n",
       "      <td>94-54 42 AVENUE</td>\n",
       "      <td>42 AVENUE</td>\n",
       "      <td>ADDRESS</td>\n",
       "      <td>Elmhurst</td>\n",
       "      <td>The following complaint conditions are still o...</td>\n",
       "      <td>QUEENS</td>\n",
       "      <td>40.745854</td>\n",
       "      <td>-73.869786</td>\n",
       "      <td>NaN</td>\n",
       "      <td>RESIDENTIAL BUILDING</td>\n",
       "      <td>Open</td>\n",
       "    </tr>\n",
       "    <tr>\n",
       "      <th>4</th>\n",
       "      <td>2019-08-19T15:46:46.000</td>\n",
       "      <td>43588078</td>\n",
       "      <td>APPLIANCE</td>\n",
       "      <td>10032.0</td>\n",
       "      <td>251 FT WASHINGTON AVENUE</td>\n",
       "      <td>FT WASHINGTON AVENUE</td>\n",
       "      <td>ADDRESS</td>\n",
       "      <td>NEW YORK</td>\n",
       "      <td>The following complaint conditions are still o...</td>\n",
       "      <td>MANHATTAN</td>\n",
       "      <td>40.843594</td>\n",
       "      <td>-73.941522</td>\n",
       "      <td>NaN</td>\n",
       "      <td>RESIDENTIAL BUILDING</td>\n",
       "      <td>Open</td>\n",
       "    </tr>\n",
       "  </tbody>\n",
       "</table>\n",
       "</div>"
      ],
      "text/plain": [
       "              created_date  unique_key complaint_type  incident_zip  \\\n",
       "0  2019-08-19T02:16:39.000    43584064       PLUMBING       10033.0   \n",
       "1  2019-08-19T15:54:15.000    43587056       PLUMBING       11225.0   \n",
       "2  2019-08-19T20:15:05.000    43583514       PLUMBING       11221.0   \n",
       "3  2019-08-19T16:27:54.000    43591000         SAFETY       11373.0   \n",
       "4  2019-08-19T15:46:46.000    43588078      APPLIANCE       10032.0   \n",
       "\n",
       "           incident_address           street_name address_type      city  \\\n",
       "0      612 WEST  178 STREET      WEST  178 STREET      ADDRESS  NEW YORK   \n",
       "1      170 HAWTHORNE STREET      HAWTHORNE STREET      ADDRESS  BROOKLYN   \n",
       "2          600 GATES AVENUE          GATES AVENUE      ADDRESS  BROOKLYN   \n",
       "3           94-54 42 AVENUE             42 AVENUE      ADDRESS  Elmhurst   \n",
       "4  251 FT WASHINGTON AVENUE  FT WASHINGTON AVENUE      ADDRESS  NEW YORK   \n",
       "\n",
       "                              resolution_description    borough   latitude  \\\n",
       "0  The following complaint conditions are still o...  MANHATTAN  40.847546   \n",
       "1  The following complaint conditions are still o...   BROOKLYN  40.657556   \n",
       "2  The following complaint conditions are still o...   BROOKLYN  40.687320   \n",
       "3  The following complaint conditions are still o...     QUEENS  40.745854   \n",
       "4  The following complaint conditions are still o...  MANHATTAN  40.843594   \n",
       "\n",
       "   longitude closed_date         location_type status  \n",
       "0 -73.935648         NaN  RESIDENTIAL BUILDING   Open  \n",
       "1 -73.954746         NaN  RESIDENTIAL BUILDING   Open  \n",
       "2 -73.940934         NaN  RESIDENTIAL BUILDING   Open  \n",
       "3 -73.869786         NaN  RESIDENTIAL BUILDING   Open  \n",
       "4 -73.941522         NaN  RESIDENTIAL BUILDING   Open  "
      ]
     },
     "execution_count": 246,
     "metadata": {},
     "output_type": "execute_result"
    }
   ],
   "source": [
    "# load data\n",
    "df_area = pd.read_csv(\"Desktop/IBM Data Science/Capstone Project/ALLrows_HPD_2G.csv\")\n",
    "df_area.head()"
   ]
  },
  {
   "cell_type": "code",
   "execution_count": 247,
   "metadata": {},
   "outputs": [
    {
     "data": {
      "text/html": [
       "<div>\n",
       "<style scoped>\n",
       "    .dataframe tbody tr th:only-of-type {\n",
       "        vertical-align: middle;\n",
       "    }\n",
       "\n",
       "    .dataframe tbody tr th {\n",
       "        vertical-align: top;\n",
       "    }\n",
       "\n",
       "    .dataframe thead th {\n",
       "        text-align: right;\n",
       "    }\n",
       "</style>\n",
       "<table border=\"1\" class=\"dataframe\">\n",
       "  <thead>\n",
       "    <tr style=\"text-align: right;\">\n",
       "      <th></th>\n",
       "      <th>complaint_type</th>\n",
       "      <th>incident_zip</th>\n",
       "      <th>street_name</th>\n",
       "      <th>borough</th>\n",
       "      <th>incident_address</th>\n",
       "    </tr>\n",
       "  </thead>\n",
       "  <tbody>\n",
       "    <tr>\n",
       "      <th>0</th>\n",
       "      <td>PLUMBING</td>\n",
       "      <td>10033.0</td>\n",
       "      <td>WEST  178 STREET</td>\n",
       "      <td>MANHATTAN</td>\n",
       "      <td>612 WEST  178 STREET</td>\n",
       "    </tr>\n",
       "    <tr>\n",
       "      <th>1</th>\n",
       "      <td>PLUMBING</td>\n",
       "      <td>11225.0</td>\n",
       "      <td>HAWTHORNE STREET</td>\n",
       "      <td>BROOKLYN</td>\n",
       "      <td>170 HAWTHORNE STREET</td>\n",
       "    </tr>\n",
       "    <tr>\n",
       "      <th>2</th>\n",
       "      <td>PLUMBING</td>\n",
       "      <td>11221.0</td>\n",
       "      <td>GATES AVENUE</td>\n",
       "      <td>BROOKLYN</td>\n",
       "      <td>600 GATES AVENUE</td>\n",
       "    </tr>\n",
       "    <tr>\n",
       "      <th>3</th>\n",
       "      <td>SAFETY</td>\n",
       "      <td>11373.0</td>\n",
       "      <td>42 AVENUE</td>\n",
       "      <td>QUEENS</td>\n",
       "      <td>94-54 42 AVENUE</td>\n",
       "    </tr>\n",
       "    <tr>\n",
       "      <th>4</th>\n",
       "      <td>APPLIANCE</td>\n",
       "      <td>10032.0</td>\n",
       "      <td>FT WASHINGTON AVENUE</td>\n",
       "      <td>MANHATTAN</td>\n",
       "      <td>251 FT WASHINGTON AVENUE</td>\n",
       "    </tr>\n",
       "  </tbody>\n",
       "</table>\n",
       "</div>"
      ],
      "text/plain": [
       "  complaint_type  incident_zip           street_name    borough  \\\n",
       "0       PLUMBING       10033.0      WEST  178 STREET  MANHATTAN   \n",
       "1       PLUMBING       11225.0      HAWTHORNE STREET   BROOKLYN   \n",
       "2       PLUMBING       11221.0          GATES AVENUE   BROOKLYN   \n",
       "3         SAFETY       11373.0             42 AVENUE     QUEENS   \n",
       "4      APPLIANCE       10032.0  FT WASHINGTON AVENUE  MANHATTAN   \n",
       "\n",
       "           incident_address  \n",
       "0      612 WEST  178 STREET  \n",
       "1      170 HAWTHORNE STREET  \n",
       "2          600 GATES AVENUE  \n",
       "3           94-54 42 AVENUE  \n",
       "4  251 FT WASHINGTON AVENUE  "
      ]
     },
     "execution_count": 247,
     "metadata": {},
     "output_type": "execute_result"
    }
   ],
   "source": [
    "#Select columns\n",
    "df_area_select = df_area[[\"complaint_type\",\"incident_zip\", \"street_name\",\"borough\",\"incident_address\"]]\n",
    "df_area_select.head()"
   ]
  },
  {
   "cell_type": "code",
   "execution_count": 248,
   "metadata": {},
   "outputs": [
    {
     "data": {
      "text/html": [
       "<div>\n",
       "<style scoped>\n",
       "    .dataframe tbody tr th:only-of-type {\n",
       "        vertical-align: middle;\n",
       "    }\n",
       "\n",
       "    .dataframe tbody tr th {\n",
       "        vertical-align: top;\n",
       "    }\n",
       "\n",
       "    .dataframe thead th {\n",
       "        text-align: right;\n",
       "    }\n",
       "</style>\n",
       "<table border=\"1\" class=\"dataframe\">\n",
       "  <thead>\n",
       "    <tr style=\"text-align: right;\">\n",
       "      <th></th>\n",
       "      <th>complaint_type</th>\n",
       "      <th>incident_zip</th>\n",
       "      <th>street_name</th>\n",
       "      <th>borough</th>\n",
       "      <th>incident_address</th>\n",
       "    </tr>\n",
       "  </thead>\n",
       "  <tbody>\n",
       "    <tr>\n",
       "      <th>0</th>\n",
       "      <td>PLUMBING</td>\n",
       "      <td>10033.0</td>\n",
       "      <td>WEST  178 STREET</td>\n",
       "      <td>MANHATTAN</td>\n",
       "      <td>612 WEST  178 STREET</td>\n",
       "    </tr>\n",
       "    <tr>\n",
       "      <th>1</th>\n",
       "      <td>PLUMBING</td>\n",
       "      <td>11225.0</td>\n",
       "      <td>HAWTHORNE STREET</td>\n",
       "      <td>BROOKLYN</td>\n",
       "      <td>170 HAWTHORNE STREET</td>\n",
       "    </tr>\n",
       "    <tr>\n",
       "      <th>2</th>\n",
       "      <td>PLUMBING</td>\n",
       "      <td>11221.0</td>\n",
       "      <td>GATES AVENUE</td>\n",
       "      <td>BROOKLYN</td>\n",
       "      <td>600 GATES AVENUE</td>\n",
       "    </tr>\n",
       "    <tr>\n",
       "      <th>5</th>\n",
       "      <td>UNSANITARY CONDITION</td>\n",
       "      <td>11226.0</td>\n",
       "      <td>PARKSIDE AVENUE</td>\n",
       "      <td>BROOKLYN</td>\n",
       "      <td>225 PARKSIDE AVENUE</td>\n",
       "    </tr>\n",
       "    <tr>\n",
       "      <th>12</th>\n",
       "      <td>HEAT/HOT WATER</td>\n",
       "      <td>10025.0</td>\n",
       "      <td>BROADWAY</td>\n",
       "      <td>MANHATTAN</td>\n",
       "      <td>2481 BROADWAY</td>\n",
       "    </tr>\n",
       "  </tbody>\n",
       "</table>\n",
       "</div>"
      ],
      "text/plain": [
       "          complaint_type  incident_zip       street_name    borough  \\\n",
       "0               PLUMBING       10033.0  WEST  178 STREET  MANHATTAN   \n",
       "1               PLUMBING       11225.0  HAWTHORNE STREET   BROOKLYN   \n",
       "2               PLUMBING       11221.0      GATES AVENUE   BROOKLYN   \n",
       "5   UNSANITARY CONDITION       11226.0   PARKSIDE AVENUE   BROOKLYN   \n",
       "12        HEAT/HOT WATER       10025.0          BROADWAY  MANHATTAN   \n",
       "\n",
       "        incident_address  \n",
       "0   612 WEST  178 STREET  \n",
       "1   170 HAWTHORNE STREET  \n",
       "2       600 GATES AVENUE  \n",
       "5    225 PARKSIDE AVENUE  \n",
       "12         2481 BROADWAY  "
      ]
     },
     "execution_count": 248,
     "metadata": {},
     "output_type": "execute_result"
    }
   ],
   "source": [
    "#Select Complaint Type\n",
    "df_area_select_CT = df_area_select[(df_area_select[\"complaint_type\"] == \"HEAT/HOT WATER\")| \n",
    "                                   (df_area_select[\"complaint_type\"]== \"HEATING\")|\n",
    "                                  (df_area_select[\"complaint_type\"]== \"PLUMBING\")|\n",
    "                                  (df_area_select[\"complaint_type\"]== \"GENERAL CONSTRUCTION\")|\n",
    "                                  (df_area_select[\"complaint_type\"]== \"UNSANITARY CONDITION\")]\n",
    "df_area_select_CT.head()"
   ]
  },
  {
   "cell_type": "markdown",
   "metadata": {},
   "source": [
    "# Focus On"
   ]
  },
  {
   "cell_type": "markdown",
   "metadata": {},
   "source": [
    "## particular boroughs"
   ]
  },
  {
   "cell_type": "code",
   "execution_count": 249,
   "metadata": {},
   "outputs": [],
   "source": [
    "df_borough = df_area_select_CT[[\"complaint_type\", \"borough\"]]"
   ]
  },
  {
   "cell_type": "code",
   "execution_count": 250,
   "metadata": {},
   "outputs": [
    {
     "name": "stderr",
     "output_type": "stream",
     "text": [
      "//anaconda3/lib/python3.7/site-packages/ipykernel_launcher.py:1: UserWarning: Boolean Series key will be reindexed to match DataFrame index.\n",
      "  \"\"\"Entry point for launching an IPython kernel.\n"
     ]
    },
    {
     "data": {
      "text/html": [
       "<div>\n",
       "<style scoped>\n",
       "    .dataframe tbody tr th:only-of-type {\n",
       "        vertical-align: middle;\n",
       "    }\n",
       "\n",
       "    .dataframe tbody tr th {\n",
       "        vertical-align: top;\n",
       "    }\n",
       "\n",
       "    .dataframe thead th {\n",
       "        text-align: right;\n",
       "    }\n",
       "</style>\n",
       "<table border=\"1\" class=\"dataframe\">\n",
       "  <thead>\n",
       "    <tr style=\"text-align: right;\">\n",
       "      <th></th>\n",
       "      <th>borough</th>\n",
       "      <th>complaint_type</th>\n",
       "    </tr>\n",
       "  </thead>\n",
       "  <tbody>\n",
       "    <tr>\n",
       "      <th>0</th>\n",
       "      <td>BRONX</td>\n",
       "      <td>373859</td>\n",
       "    </tr>\n",
       "    <tr>\n",
       "      <th>1</th>\n",
       "      <td>BROOKLYN</td>\n",
       "      <td>351816</td>\n",
       "    </tr>\n",
       "    <tr>\n",
       "      <th>2</th>\n",
       "      <td>MANHATTAN</td>\n",
       "      <td>260335</td>\n",
       "    </tr>\n",
       "    <tr>\n",
       "      <th>3</th>\n",
       "      <td>QUEENS</td>\n",
       "      <td>152349</td>\n",
       "    </tr>\n",
       "    <tr>\n",
       "      <th>4</th>\n",
       "      <td>STATEN ISLAND</td>\n",
       "      <td>11368</td>\n",
       "    </tr>\n",
       "    <tr>\n",
       "      <th>5</th>\n",
       "      <td>Unspecified</td>\n",
       "      <td>1</td>\n",
       "    </tr>\n",
       "  </tbody>\n",
       "</table>\n",
       "</div>"
      ],
      "text/plain": [
       "         borough  complaint_type\n",
       "0          BRONX          373859\n",
       "1       BROOKLYN          351816\n",
       "2      MANHATTAN          260335\n",
       "3         QUEENS          152349\n",
       "4  STATEN ISLAND           11368\n",
       "5    Unspecified               1"
      ]
     },
     "execution_count": 250,
     "metadata": {},
     "output_type": "execute_result"
    }
   ],
   "source": [
    "df_borough_group = df_borough[df_area_select[\"complaint_type\"] == \"HEAT/HOT WATER\"].groupby(by = \"borough\", as_index=False).count()\n",
    "df_borough_group"
   ]
  },
  {
   "cell_type": "code",
   "execution_count": 251,
   "metadata": {},
   "outputs": [
    {
     "data": {
      "text/plain": [
       "Text(0.5, 1.0, 'HEAT/HOT WATER and Borough')"
      ]
     },
     "execution_count": 251,
     "metadata": {},
     "output_type": "execute_result"
    },
    {
     "data": {
      "text/plain": [
       "<Figure size 1152x720 with 0 Axes>"
      ]
     },
     "metadata": {},
     "output_type": "display_data"
    },
    {
     "data": {
      "image/png": "[encoded data removed]",
      "text/plain": [
       "<Figure size 432x288 with 1 Axes>"
      ]
     },
     "metadata": {
      "needs_background": "light"
     },
     "output_type": "display_data"
    }
   ],
   "source": [
    "plt.figure(figsize=(16,10))\n",
    "df_borough_group.plot(x = \"borough\", kind=\"bar\", color = \"b\")\n",
    "plt.ylabel(\"Numbers of Complaint\")\n",
    "plt.title(\"HEAT/HOT WATER and Borough\")"
   ]
  },
  {
   "cell_type": "markdown",
   "metadata": {},
   "source": [
    "Conclusion: As the analysis and picture shows, when considering about  HEAT/HOT WATER  complaints, the number of BRONX borough is highest. So in this way, HPD should focus on BRONX borough."
   ]
  },
  {
   "cell_type": "markdown",
   "metadata": {},
   "source": [
    "#### Provide other insights that related to the problem"
   ]
  },
  {
   "cell_type": "code",
   "execution_count": 252,
   "metadata": {},
   "outputs": [
    {
     "data": {
      "text/html": [
       "<div>\n",
       "<style scoped>\n",
       "    .dataframe tbody tr th:only-of-type {\n",
       "        vertical-align: middle;\n",
       "    }\n",
       "\n",
       "    .dataframe tbody tr th {\n",
       "        vertical-align: top;\n",
       "    }\n",
       "\n",
       "    .dataframe thead th {\n",
       "        text-align: right;\n",
       "    }\n",
       "</style>\n",
       "<table border=\"1\" class=\"dataframe\">\n",
       "  <thead>\n",
       "    <tr style=\"text-align: right;\">\n",
       "      <th></th>\n",
       "      <th>borough</th>\n",
       "      <th>complaint_type</th>\n",
       "    </tr>\n",
       "  </thead>\n",
       "  <tbody>\n",
       "    <tr>\n",
       "      <th>0</th>\n",
       "      <td>BRONX</td>\n",
       "      <td>195284</td>\n",
       "    </tr>\n",
       "    <tr>\n",
       "      <th>1</th>\n",
       "      <td>BROOKLYN</td>\n",
       "      <td>190325</td>\n",
       "    </tr>\n",
       "    <tr>\n",
       "      <th>2</th>\n",
       "      <td>MANHATTAN</td>\n",
       "      <td>137525</td>\n",
       "    </tr>\n",
       "    <tr>\n",
       "      <th>3</th>\n",
       "      <td>QUEENS</td>\n",
       "      <td>75804</td>\n",
       "    </tr>\n",
       "    <tr>\n",
       "      <th>4</th>\n",
       "      <td>STATEN ISLAND</td>\n",
       "      <td>6015</td>\n",
       "    </tr>\n",
       "    <tr>\n",
       "      <th>5</th>\n",
       "      <td>Unspecified</td>\n",
       "      <td>282916</td>\n",
       "    </tr>\n",
       "  </tbody>\n",
       "</table>\n",
       "</div>"
      ],
      "text/plain": [
       "         borough  complaint_type\n",
       "0          BRONX          195284\n",
       "1       BROOKLYN          190325\n",
       "2      MANHATTAN          137525\n",
       "3         QUEENS           75804\n",
       "4  STATEN ISLAND            6015\n",
       "5    Unspecified          282916"
      ]
     },
     "execution_count": 252,
     "metadata": {},
     "output_type": "execute_result"
    }
   ],
   "source": [
    "# In this way, we focus on HEATING\n",
    "df_borough_group_1 = df_borough[df_borough[\"complaint_type\"] == \"HEATING\"].groupby(by = [\"borough\"], as_index=False).count()\n",
    "df_borough_group_1"
   ]
  },
  {
   "cell_type": "code",
   "execution_count": 253,
   "metadata": {},
   "outputs": [
    {
     "data": {
      "text/plain": [
       "Text(0.5, 1.0, 'HEATING and Borough')"
      ]
     },
     "execution_count": 253,
     "metadata": {},
     "output_type": "execute_result"
    },
    {
     "data": {
      "text/plain": [
       "<Figure size 1152x720 with 0 Axes>"
      ]
     },
     "metadata": {},
     "output_type": "display_data"
    },
    {
     "data": {
      "image/png": "[encoded data removed]",
      "text/plain": [
       "<Figure size 432x288 with 1 Axes>"
      ]
     },
     "metadata": {
      "needs_background": "light"
     },
     "output_type": "display_data"
    }
   ],
   "source": [
    "plt.figure(figsize=(16,10))\n",
    "df_borough_group_1.plot(x = \"borough\", kind=\"bar\", color = \"g\")\n",
    "plt.ylabel(\"Numbers of Complaint\")\n",
    "plt.title(\"HEATING and Borough\")"
   ]
  },
  {
   "cell_type": "markdown",
   "metadata": {},
   "source": [
    "Conclusion: As we can see, both BRONX and BROOKLYN have the most HEATING complaints. And if HPD plans to focus on HEATING complaints, focusing on both BRONX and BROOKLYN is a better choice."
   ]
  },
  {
   "cell_type": "markdown",
   "metadata": {},
   "source": [
    "## particular ZIP"
   ]
  },
  {
   "cell_type": "code",
   "execution_count": 254,
   "metadata": {},
   "outputs": [
    {
     "data": {
      "text/html": [
       "<div>\n",
       "<style scoped>\n",
       "    .dataframe tbody tr th:only-of-type {\n",
       "        vertical-align: middle;\n",
       "    }\n",
       "\n",
       "    .dataframe tbody tr th {\n",
       "        vertical-align: top;\n",
       "    }\n",
       "\n",
       "    .dataframe thead th {\n",
       "        text-align: right;\n",
       "    }\n",
       "</style>\n",
       "<table border=\"1\" class=\"dataframe\">\n",
       "  <thead>\n",
       "    <tr style=\"text-align: right;\">\n",
       "      <th></th>\n",
       "      <th>complaint_type</th>\n",
       "      <th>incident_zip</th>\n",
       "    </tr>\n",
       "  </thead>\n",
       "  <tbody>\n",
       "    <tr>\n",
       "      <th>0</th>\n",
       "      <td>PLUMBING</td>\n",
       "      <td>10033.0</td>\n",
       "    </tr>\n",
       "    <tr>\n",
       "      <th>1</th>\n",
       "      <td>PLUMBING</td>\n",
       "      <td>11225.0</td>\n",
       "    </tr>\n",
       "    <tr>\n",
       "      <th>2</th>\n",
       "      <td>PLUMBING</td>\n",
       "      <td>11221.0</td>\n",
       "    </tr>\n",
       "    <tr>\n",
       "      <th>5</th>\n",
       "      <td>UNSANITARY CONDITION</td>\n",
       "      <td>11226.0</td>\n",
       "    </tr>\n",
       "    <tr>\n",
       "      <th>12</th>\n",
       "      <td>HEAT/HOT WATER</td>\n",
       "      <td>10025.0</td>\n",
       "    </tr>\n",
       "  </tbody>\n",
       "</table>\n",
       "</div>"
      ],
      "text/plain": [
       "          complaint_type  incident_zip\n",
       "0               PLUMBING       10033.0\n",
       "1               PLUMBING       11225.0\n",
       "2               PLUMBING       11221.0\n",
       "5   UNSANITARY CONDITION       11226.0\n",
       "12        HEAT/HOT WATER       10025.0"
      ]
     },
     "execution_count": 254,
     "metadata": {},
     "output_type": "execute_result"
    }
   ],
   "source": [
    "df_zip = df_area_select_CT[[\"complaint_type\", \"incident_zip\"]]\n",
    "df_zip.head()"
   ]
  },
  {
   "cell_type": "code",
   "execution_count": 255,
   "metadata": {},
   "outputs": [
    {
     "data": {
      "text/html": [
       "<div>\n",
       "<style scoped>\n",
       "    .dataframe tbody tr th:only-of-type {\n",
       "        vertical-align: middle;\n",
       "    }\n",
       "\n",
       "    .dataframe tbody tr th {\n",
       "        vertical-align: top;\n",
       "    }\n",
       "\n",
       "    .dataframe thead th {\n",
       "        text-align: right;\n",
       "    }\n",
       "</style>\n",
       "<table border=\"1\" class=\"dataframe\">\n",
       "  <thead>\n",
       "    <tr style=\"text-align: right;\">\n",
       "      <th></th>\n",
       "      <th>incident_zip</th>\n",
       "      <th>complaint_type</th>\n",
       "    </tr>\n",
       "  </thead>\n",
       "  <tbody>\n",
       "    <tr>\n",
       "      <th>124</th>\n",
       "      <td>11226.0</td>\n",
       "      <td>38110</td>\n",
       "    </tr>\n",
       "    <tr>\n",
       "      <th>71</th>\n",
       "      <td>10458.0</td>\n",
       "      <td>35670</td>\n",
       "    </tr>\n",
       "    <tr>\n",
       "      <th>80</th>\n",
       "      <td>10467.0</td>\n",
       "      <td>34712</td>\n",
       "    </tr>\n",
       "    <tr>\n",
       "      <th>81</th>\n",
       "      <td>10468.0</td>\n",
       "      <td>31262</td>\n",
       "    </tr>\n",
       "    <tr>\n",
       "      <th>66</th>\n",
       "      <td>10453.0</td>\n",
       "      <td>31240</td>\n",
       "    </tr>\n",
       "  </tbody>\n",
       "</table>\n",
       "</div>"
      ],
      "text/plain": [
       "     incident_zip  complaint_type\n",
       "124       11226.0           38110\n",
       "71        10458.0           35670\n",
       "80        10467.0           34712\n",
       "81        10468.0           31262\n",
       "66        10453.0           31240"
      ]
     },
     "execution_count": 255,
     "metadata": {},
     "output_type": "execute_result"
    }
   ],
   "source": [
    "#The top 5\n",
    "df_zip_group = df_zip[df_zip[\"complaint_type\"] == \"HEAT/HOT WATER\"].groupby(by = \"incident_zip\", as_index=False).count()\n",
    "df_zip_group = df_zip_group.sort_values(by=\"complaint_type\", ascending= False)\n",
    "df_zip_group.head()"
   ]
  },
  {
   "cell_type": "code",
   "execution_count": 256,
   "metadata": {},
   "outputs": [
    {
     "data": {
      "text/plain": [
       "Text(0.5, 1.0, 'HEAT/HOT WATER and ZIP')"
      ]
     },
     "execution_count": 256,
     "metadata": {},
     "output_type": "execute_result"
    },
    {
     "data": {
      "text/plain": [
       "<Figure size 1152x720 with 0 Axes>"
      ]
     },
     "metadata": {},
     "output_type": "display_data"
    },
    {
     "data": {
      "image/png": "[encoded data removed]",
      "text/plain": [
       "<Figure size 432x288 with 1 Axes>"
      ]
     },
     "metadata": {
      "needs_background": "light"
     },
     "output_type": "display_data"
    }
   ],
   "source": [
    "plt.figure(figsize=(16,10))\n",
    "df_zip_group[[\"complaint_type\"]].plot(kind=\"bar\", color = \"r\")\n",
    "plt.xticks(())\n",
    "plt.xlabel(\"incident zip\")\n",
    "plt.ylabel(\"Numbers of Complaint\")\n",
    "plt.title(\"HEAT/HOT WATER and ZIP\")"
   ]
  },
  {
   "cell_type": "markdown",
   "metadata": {},
   "source": [
    "Conclusion: As the analysis and picture shows, when considering about HEAT/HOT WATER complaints, the number of ZIP11226, ZIP10458, ZIP10467, ZIP10468, ZIP10453 are the top 5 highest. So in this way, HPD should focus on these five ZIPs."
   ]
  },
  {
   "cell_type": "markdown",
   "metadata": {},
   "source": [
    "#### Provide other insights that related to the problem"
   ]
  },
  {
   "cell_type": "code",
   "execution_count": 257,
   "metadata": {},
   "outputs": [
    {
     "data": {
      "text/html": [
       "<div>\n",
       "<style scoped>\n",
       "    .dataframe tbody tr th:only-of-type {\n",
       "        vertical-align: middle;\n",
       "    }\n",
       "\n",
       "    .dataframe tbody tr th {\n",
       "        vertical-align: top;\n",
       "    }\n",
       "\n",
       "    .dataframe thead th {\n",
       "        text-align: right;\n",
       "    }\n",
       "</style>\n",
       "<table border=\"1\" class=\"dataframe\">\n",
       "  <thead>\n",
       "    <tr style=\"text-align: right;\">\n",
       "      <th></th>\n",
       "      <th>incident_zip</th>\n",
       "      <th>complaint_type</th>\n",
       "    </tr>\n",
       "  </thead>\n",
       "  <tbody>\n",
       "    <tr>\n",
       "      <th>119</th>\n",
       "      <td>11226.0</td>\n",
       "      <td>28212</td>\n",
       "    </tr>\n",
       "    <tr>\n",
       "      <th>62</th>\n",
       "      <td>10453.0</td>\n",
       "      <td>19441</td>\n",
       "    </tr>\n",
       "    <tr>\n",
       "      <th>76</th>\n",
       "      <td>10467.0</td>\n",
       "      <td>19387</td>\n",
       "    </tr>\n",
       "    <tr>\n",
       "      <th>66</th>\n",
       "      <td>10457.0</td>\n",
       "      <td>19028</td>\n",
       "    </tr>\n",
       "    <tr>\n",
       "      <th>67</th>\n",
       "      <td>10458.0</td>\n",
       "      <td>19001</td>\n",
       "    </tr>\n",
       "  </tbody>\n",
       "</table>\n",
       "</div>"
      ],
      "text/plain": [
       "     incident_zip  complaint_type\n",
       "119       11226.0           28212\n",
       "62        10453.0           19441\n",
       "76        10467.0           19387\n",
       "66        10457.0           19028\n",
       "67        10458.0           19001"
      ]
     },
     "execution_count": 257,
     "metadata": {},
     "output_type": "execute_result"
    }
   ],
   "source": [
    "# In this way, we focus on PLUMBING\n",
    "df_zip_group_1 = df_zip[df_zip[\"complaint_type\"] == \"PLUMBING\"].groupby(by = [\"incident_zip\"], as_index=False).count()\n",
    "df_zip_group_1 = df_zip_group_1.sort_values(by = \"complaint_type\", ascending = False)\n",
    "df_zip_group_1.head()"
   ]
  },
  {
   "cell_type": "code",
   "execution_count": 258,
   "metadata": {},
   "outputs": [
    {
     "data": {
      "text/plain": [
       "Text(0.5, 1.0, 'PLUMBING and ZIP')"
      ]
     },
     "execution_count": 258,
     "metadata": {},
     "output_type": "execute_result"
    },
    {
     "data": {
      "text/plain": [
       "<Figure size 1152x720 with 0 Axes>"
      ]
     },
     "metadata": {},
     "output_type": "display_data"
    },
    {
     "data": {
      "image/png": "[encoded data removed]",
      "text/plain": [
       "<Figure size 432x288 with 1 Axes>"
      ]
     },
     "metadata": {
      "needs_background": "light"
     },
     "output_type": "display_data"
    }
   ],
   "source": [
    "plt.figure(figsize=(16,10))\n",
    "df_zip_group_1.iloc[0:5,:].plot(x=\"incident_zip\", kind=\"bar\",color = \"black\")\n",
    "plt.xlabel(\"incident zip\")\n",
    "plt.ylabel(\"Numbers of Complaint\")\n",
    "plt.title(\"PLUMBING and ZIP\")"
   ]
  },
  {
   "cell_type": "markdown",
   "metadata": {},
   "source": [
    "Conclusion: When we focus on this specific type \"PLUMBING\", we can find the complaints number of ZIP11226 is much higher than other ZIPs. So, HPD should focus on this area first."
   ]
  },
  {
   "cell_type": "markdown",
   "metadata": {},
   "source": [
    "## particular Street"
   ]
  },
  {
   "cell_type": "code",
   "execution_count": 259,
   "metadata": {},
   "outputs": [
    {
     "data": {
      "text/html": [
       "<div>\n",
       "<style scoped>\n",
       "    .dataframe tbody tr th:only-of-type {\n",
       "        vertical-align: middle;\n",
       "    }\n",
       "\n",
       "    .dataframe tbody tr th {\n",
       "        vertical-align: top;\n",
       "    }\n",
       "\n",
       "    .dataframe thead th {\n",
       "        text-align: right;\n",
       "    }\n",
       "</style>\n",
       "<table border=\"1\" class=\"dataframe\">\n",
       "  <thead>\n",
       "    <tr style=\"text-align: right;\">\n",
       "      <th></th>\n",
       "      <th>complaint_type</th>\n",
       "      <th>street_name</th>\n",
       "    </tr>\n",
       "  </thead>\n",
       "  <tbody>\n",
       "    <tr>\n",
       "      <th>0</th>\n",
       "      <td>PLUMBING</td>\n",
       "      <td>WEST  178 STREET</td>\n",
       "    </tr>\n",
       "    <tr>\n",
       "      <th>1</th>\n",
       "      <td>PLUMBING</td>\n",
       "      <td>HAWTHORNE STREET</td>\n",
       "    </tr>\n",
       "    <tr>\n",
       "      <th>2</th>\n",
       "      <td>PLUMBING</td>\n",
       "      <td>GATES AVENUE</td>\n",
       "    </tr>\n",
       "    <tr>\n",
       "      <th>5</th>\n",
       "      <td>UNSANITARY CONDITION</td>\n",
       "      <td>PARKSIDE AVENUE</td>\n",
       "    </tr>\n",
       "    <tr>\n",
       "      <th>12</th>\n",
       "      <td>HEAT/HOT WATER</td>\n",
       "      <td>BROADWAY</td>\n",
       "    </tr>\n",
       "  </tbody>\n",
       "</table>\n",
       "</div>"
      ],
      "text/plain": [
       "          complaint_type       street_name\n",
       "0               PLUMBING  WEST  178 STREET\n",
       "1               PLUMBING  HAWTHORNE STREET\n",
       "2               PLUMBING      GATES AVENUE\n",
       "5   UNSANITARY CONDITION   PARKSIDE AVENUE\n",
       "12        HEAT/HOT WATER          BROADWAY"
      ]
     },
     "execution_count": 259,
     "metadata": {},
     "output_type": "execute_result"
    }
   ],
   "source": [
    "df_street = df_area_select_CT[[\"complaint_type\", \"street_name\"]]\n",
    "df_street.head()"
   ]
  },
  {
   "cell_type": "code",
   "execution_count": 260,
   "metadata": {},
   "outputs": [
    {
     "data": {
      "text/html": [
       "<div>\n",
       "<style scoped>\n",
       "    .dataframe tbody tr th:only-of-type {\n",
       "        vertical-align: middle;\n",
       "    }\n",
       "\n",
       "    .dataframe tbody tr th {\n",
       "        vertical-align: top;\n",
       "    }\n",
       "\n",
       "    .dataframe thead th {\n",
       "        text-align: right;\n",
       "    }\n",
       "</style>\n",
       "<table border=\"1\" class=\"dataframe\">\n",
       "  <thead>\n",
       "    <tr style=\"text-align: right;\">\n",
       "      <th></th>\n",
       "      <th>street_name</th>\n",
       "      <th>complaint_type</th>\n",
       "    </tr>\n",
       "  </thead>\n",
       "  <tbody>\n",
       "    <tr>\n",
       "      <th>2717</th>\n",
       "      <td>GRAND CONCOURSE</td>\n",
       "      <td>20344</td>\n",
       "    </tr>\n",
       "  </tbody>\n",
       "</table>\n",
       "</div>"
      ],
      "text/plain": [
       "          street_name  complaint_type\n",
       "2717  GRAND CONCOURSE           20344"
      ]
     },
     "execution_count": 260,
     "metadata": {},
     "output_type": "execute_result"
    }
   ],
   "source": [
    "df_street_group = df_street[df_street[\"complaint_type\"] == \"HEAT/HOT WATER\"].groupby(by = \"street_name\", as_index=False).count()\n",
    "df_street_group = df_street_group.sort_values(by=\"complaint_type\", ascending= False)\n",
    "df_street_group.head(1)"
   ]
  },
  {
   "cell_type": "code",
   "execution_count": 261,
   "metadata": {},
   "outputs": [
    {
     "data": {
      "text/plain": [
       "Text(0.5, 1.0, 'HEAT/HOT WATER and 10 top Streets')"
      ]
     },
     "execution_count": 261,
     "metadata": {},
     "output_type": "execute_result"
    },
    {
     "data": {
      "text/plain": [
       "<Figure size 1152x720 with 0 Axes>"
      ]
     },
     "metadata": {},
     "output_type": "display_data"
    },
    {
     "data": {
      "image/png": "[encoded data removed]",
      "text/plain": [
       "<Figure size 432x288 with 1 Axes>"
      ]
     },
     "metadata": {
      "needs_background": "light"
     },
     "output_type": "display_data"
    }
   ],
   "source": [
    "plt.figure(figsize=(16,10))\n",
    "df_street_group.iloc[0:10,:].plot(x=\"street_name\", kind=\"bar\",color = \"yellow\")\n",
    "plt.xlabel(\"street_name\")\n",
    "plt.ylabel(\"Numbers of Complaint\")\n",
    "plt.title(\"HEAT/HOT WATER and 10 top Streets\")"
   ]
  },
  {
   "cell_type": "markdown",
   "metadata": {},
   "source": [
    "Conclusion: As the analysis and picture shows, when considering about the HEAT/HOT WATER complaints, the number of GRAND CONCOURSE\t street is much higher than other streets. So, there must be something wrong about this street. It is a better choice for HPD focusing on this street."
   ]
  },
  {
   "cell_type": "markdown",
   "metadata": {},
   "source": [
    "#### Provide other insights that related to the problem"
   ]
  },
  {
   "cell_type": "code",
   "execution_count": 262,
   "metadata": {},
   "outputs": [
    {
     "data": {
      "text/html": [
       "<div>\n",
       "<style scoped>\n",
       "    .dataframe tbody tr th:only-of-type {\n",
       "        vertical-align: middle;\n",
       "    }\n",
       "\n",
       "    .dataframe tbody tr th {\n",
       "        vertical-align: top;\n",
       "    }\n",
       "\n",
       "    .dataframe thead th {\n",
       "        text-align: right;\n",
       "    }\n",
       "</style>\n",
       "<table border=\"1\" class=\"dataframe\">\n",
       "  <thead>\n",
       "    <tr style=\"text-align: right;\">\n",
       "      <th></th>\n",
       "      <th>street_name</th>\n",
       "      <th>complaint_type</th>\n",
       "    </tr>\n",
       "  </thead>\n",
       "  <tbody>\n",
       "    <tr>\n",
       "      <th>2123</th>\n",
       "      <td>GRAND CONCOURSE</td>\n",
       "      <td>7893</td>\n",
       "    </tr>\n",
       "    <tr>\n",
       "      <th>1110</th>\n",
       "      <td>BROADWAY</td>\n",
       "      <td>5206</td>\n",
       "    </tr>\n",
       "    <tr>\n",
       "      <th>2908</th>\n",
       "      <td>OCEAN AVENUE</td>\n",
       "      <td>5144</td>\n",
       "    </tr>\n",
       "    <tr>\n",
       "      <th>3405</th>\n",
       "      <td>ST NICHOLAS AVENUE</td>\n",
       "      <td>3514</td>\n",
       "    </tr>\n",
       "    <tr>\n",
       "      <th>2779</th>\n",
       "      <td>MORRIS AVENUE</td>\n",
       "      <td>3265</td>\n",
       "    </tr>\n",
       "    <tr>\n",
       "      <th>684</th>\n",
       "      <td>AMSTERDAM AVENUE</td>\n",
       "      <td>3218</td>\n",
       "    </tr>\n",
       "    <tr>\n",
       "      <th>1830</th>\n",
       "      <td>EASTERN PARKWAY</td>\n",
       "      <td>2838</td>\n",
       "    </tr>\n",
       "    <tr>\n",
       "      <th>3682</th>\n",
       "      <td>WALTON AVENUE</td>\n",
       "      <td>2811</td>\n",
       "    </tr>\n",
       "    <tr>\n",
       "      <th>1388</th>\n",
       "      <td>CRESTON AVENUE</td>\n",
       "      <td>2727</td>\n",
       "    </tr>\n",
       "    <tr>\n",
       "      <th>3172</th>\n",
       "      <td>RIVERSIDE DRIVE</td>\n",
       "      <td>2567</td>\n",
       "    </tr>\n",
       "  </tbody>\n",
       "</table>\n",
       "</div>"
      ],
      "text/plain": [
       "             street_name  complaint_type\n",
       "2123     GRAND CONCOURSE            7893\n",
       "1110            BROADWAY            5206\n",
       "2908        OCEAN AVENUE            5144\n",
       "3405  ST NICHOLAS AVENUE            3514\n",
       "2779       MORRIS AVENUE            3265\n",
       "684     AMSTERDAM AVENUE            3218\n",
       "1830     EASTERN PARKWAY            2838\n",
       "3682       WALTON AVENUE            2811\n",
       "1388      CRESTON AVENUE            2727\n",
       "3172     RIVERSIDE DRIVE            2567"
      ]
     },
     "execution_count": 262,
     "metadata": {},
     "output_type": "execute_result"
    }
   ],
   "source": [
    "# In this way, we focus on GENERAL CONSTRUCTION\n",
    "df_street_group_1 = df_street[df_street[\"complaint_type\"] == \"GENERAL CONSTRUCTION\"].groupby(by = [\"street_name\"], as_index=False).count()\n",
    "df_street_group_1 = df_street_group_1.sort_values(by = \"complaint_type\", ascending = False)\n",
    "df_street_group_1.head(10)"
   ]
  },
  {
   "cell_type": "code",
   "execution_count": 263,
   "metadata": {},
   "outputs": [
    {
     "data": {
      "text/plain": [
       "Text(0.5, 1.0, 'GENERAL CONSTRUCTION and Street')"
      ]
     },
     "execution_count": 263,
     "metadata": {},
     "output_type": "execute_result"
    },
    {
     "data": {
      "text/plain": [
       "<Figure size 1152x720 with 0 Axes>"
      ]
     },
     "metadata": {},
     "output_type": "display_data"
    },
    {
     "data": {
      "image/png": "[encoded data removed]",
      "text/plain": [
       "<Figure size 432x288 with 1 Axes>"
      ]
     },
     "metadata": {
      "needs_background": "light"
     },
     "output_type": "display_data"
    }
   ],
   "source": [
    "plt.figure(figsize=(16,10))\n",
    "df_street_group_1.iloc[0:10,:].plot(x=\"street_name\", kind=\"bar\",color = \"purple\")\n",
    "plt.xlabel(\"street_name\")\n",
    "plt.ylabel(\"Numbers of Complaint\")\n",
    "plt.title(\"GENERAL CONSTRUCTION and Street\")"
   ]
  },
  {
   "cell_type": "markdown",
   "metadata": {},
   "source": [
    "Conclusion: It is not surprising that GRAND CONCOURSE also has the most complaints when considering type \"GENERAL CONSTRUCTION\". So no matter which kind of complaints HPD wants to focus first, they must address with GRAND CONCOURSE first."
   ]
  },
  {
   "cell_type": "markdown",
   "metadata": {},
   "source": [
    "# Final Concluding"
   ]
  },
  {
   "cell_type": "markdown",
   "metadata": {},
   "source": [
    "# ATTENTION : The agency should focus on BRONX borough, 11226 zip code, GRAND CONCOURSE street!!!"
   ]
  },
  {
   "cell_type": "code",
   "execution_count": null,
   "metadata": {},
   "outputs": [],
   "source": []
  }
 ],
 "metadata": {
  "kernelspec": {
   "display_name": "Python 3",
   "language": "python",
   "name": "python3"
  },
  "language_info": {
   "codemirror_mode": {
    "name": "ipython",
    "version": 3
   },
   "file_extension": ".py",
   "mimetype": "text/x-python",
   "name": "python",
   "nbconvert_exporter": "python",
   "pygments_lexer": "ipython3",
   "version": "3.7.3"
  }
 },
 "nbformat": 4,
 "nbformat_minor": 2
}
